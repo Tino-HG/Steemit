{
 "cells": [
  {
   "cell_type": "markdown",
   "metadata": {},
   "source": [
    "The following notebook calculates the average number of transactions per day throughout a determined period. The databases are obtained using Coincrawler (https://github.com/whateverpal/coinmetrics-tools). These can also be downloaded from: https://coinmetrics.io/data-downloads/."
   ]
  },
  {
   "cell_type": "code",
   "execution_count": 1,
   "metadata": {},
   "outputs": [],
   "source": [
    "import pandas as pd\n",
    "import numpy as np\n",
    "import glob\n",
    "\n",
    "db_directory = 'Transactions'\n",
    "db_list = glob.glob('{}/*.csv'.format(db_directory))\n",
    "\n",
    "date_start = '2017-11-27'\n",
    "date_end = '2017-12-26'\n",
    "\n",
    "db_dict={}\n",
    "for db in db_list:\n",
    "    db_name = db.split('\\\\')[-1].split('.')[0]\n",
    "    db_dict[db_name] = pd.read_csv(db, usecols=[2])\n",
    "    db_dict[db_name] = db_dict[db_name].loc[date_start:date_end]"
   ]
  },
  {
   "cell_type": "code",
   "execution_count": 2,
   "metadata": {},
   "outputs": [
    {
     "name": "stdout",
     "output_type": "stream",
     "text": [
      "bch average transactions per day over the last 30 days = 32902\n",
      "btc average transactions per day over the last 30 days = 370396\n",
      "dash average transactions per day over the last 30 days = 12863\n",
      "doge average transactions per day over the last 30 days = 23560\n",
      "etc average transactions per day over the last 30 days = 49716\n",
      "eth average transactions per day over the last 30 days = 1007677\n",
      "ltc average transactions per day over the last 30 days = 88368\n",
      "xmr average transactions per day over the last 30 days = 6951\n",
      "zec average transactions per day over the last 30 days = 9454\n"
     ]
    }
   ],
   "source": [
    "avg_daily_tx = {}\n",
    "ticker_list=[]\n",
    "for db in db_dict:\n",
    "    avg_daily_tx[db] = int(db_dict[db].mean()[0])\n",
    "    ticker_list.append(db.upper())\n",
    "    print ('{} average transactions per day over the last 30 days = {}'.format(db,avg_daily_tx[db]))"
   ]
  },
  {
   "cell_type": "code",
   "execution_count": 3,
   "metadata": {},
   "outputs": [
    {
     "data": {
      "text/html": [
       "<script>requirejs.config({paths: { 'plotly': ['https://cdn.plot.ly/plotly-latest.min']},});if(!window.Plotly) {{require(['plotly'],function(plotly) {window.Plotly=plotly;});}}</script>"
      ],
      "text/vnd.plotly.v1+html": [
       "<script>requirejs.config({paths: { 'plotly': ['https://cdn.plot.ly/plotly-latest.min']},});if(!window.Plotly) {{require(['plotly'],function(plotly) {window.Plotly=plotly;});}}</script>"
      ]
     },
     "metadata": {},
     "output_type": "display_data"
    },
    {
     "data": {
      "application/vnd.plotly.v1+json": {
       "data": [
        {
         "labels": [
          "BCH",
          "BTC",
          "DASH",
          "DOGE",
          "ETC",
          "ETH",
          "LTC",
          "XMR",
          "ZEC"
         ],
         "textinfo": "value",
         "type": "pie",
         "values": [
          32902,
          370396,
          12863,
          23560,
          49716,
          1007677,
          88368,
          6951,
          9454
         ]
        }
       ],
       "layout": {
        "autosize": true,
        "title": "Average Transactions per Day (27.11.2017 - 26.12.2017)"
       }
      },
      "text/html": [
       "<div id=\"1a3e5db8-eaef-4850-bdf4-5f7636ffaa3d\" style=\"height: 525px; width: 100%;\" class=\"plotly-graph-div\"></div><script type=\"text/javascript\">require([\"plotly\"], function(Plotly) { window.PLOTLYENV=window.PLOTLYENV || {};window.PLOTLYENV.BASE_URL=\"https://plot.ly\";Plotly.newPlot(\"1a3e5db8-eaef-4850-bdf4-5f7636ffaa3d\", [{\"type\": \"pie\", \"labels\": [\"BCH\", \"BTC\", \"DASH\", \"DOGE\", \"ETC\", \"ETH\", \"LTC\", \"XMR\", \"ZEC\"], \"values\": [32902, 370396, 12863, 23560, 49716, 1007677, 88368, 6951, 9454], \"textinfo\": \"value\"}], {\"autosize\": true, \"title\": \"Average Transactions per Day (27.11.2017 - 26.12.2017)\"}, {\"showLink\": true, \"linkText\": \"Export to plot.ly\"})});</script>"
      ],
      "text/vnd.plotly.v1+html": [
       "<div id=\"1a3e5db8-eaef-4850-bdf4-5f7636ffaa3d\" style=\"height: 525px; width: 100%;\" class=\"plotly-graph-div\"></div><script type=\"text/javascript\">require([\"plotly\"], function(Plotly) { window.PLOTLYENV=window.PLOTLYENV || {};window.PLOTLYENV.BASE_URL=\"https://plot.ly\";Plotly.newPlot(\"1a3e5db8-eaef-4850-bdf4-5f7636ffaa3d\", [{\"type\": \"pie\", \"labels\": [\"BCH\", \"BTC\", \"DASH\", \"DOGE\", \"ETC\", \"ETH\", \"LTC\", \"XMR\", \"ZEC\"], \"values\": [32902, 370396, 12863, 23560, 49716, 1007677, 88368, 6951, 9454], \"textinfo\": \"value\"}], {\"autosize\": true, \"title\": \"Average Transactions per Day (27.11.2017 - 26.12.2017)\"}, {\"showLink\": true, \"linkText\": \"Export to plot.ly\"})});</script>"
      ]
     },
     "metadata": {},
     "output_type": "display_data"
    }
   ],
   "source": [
    "import plotly.offline as ply\n",
    "import plotly.graph_objs as ply_go\n",
    "\n",
    "ply.init_notebook_mode(connected=True)\n",
    "\n",
    "values = list(avg_daily_tx.values())\n",
    "\n",
    "trace = ply_go.Pie(labels = ticker_list, values = values, textinfo = \"value\")\n",
    "\n",
    "layout = ply_go.Layout(autosize = True, title = 'Average Transactions per Day (27.11.2017 - 26.12.2017)')\n",
    "\n",
    "fig = ply_go.Figure(data = [trace], layout = layout)\n",
    "\n",
    "ply.iplot(fig, filename='avg_daily_tx_{}_{}'.format(date_start,date_end))"
   ]
  },
  {
   "cell_type": "code",
   "execution_count": null,
   "metadata": {
    "collapsed": true
   },
   "outputs": [],
   "source": []
  }
 ],
 "metadata": {
  "kernelspec": {
   "display_name": "Python 3",
   "language": "python",
   "name": "python3"
  },
  "language_info": {
   "codemirror_mode": {
    "name": "ipython",
    "version": 3
   },
   "file_extension": ".py",
   "mimetype": "text/x-python",
   "name": "python",
   "nbconvert_exporter": "python",
   "pygments_lexer": "ipython3",
   "version": "3.6.3"
  }
 },
 "nbformat": 4,
 "nbformat_minor": 2
}
